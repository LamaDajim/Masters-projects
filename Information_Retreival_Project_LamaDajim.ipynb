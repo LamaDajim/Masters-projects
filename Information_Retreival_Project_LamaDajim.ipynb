{
 "cells": [
  {
   "cell_type": "code",
   "execution_count": 1,
   "id": "3981d09f",
   "metadata": {},
   "outputs": [
    {
     "name": "stderr",
     "output_type": "stream",
     "text": [
      "[nltk_data] Downloading package wordnet to\n",
      "[nltk_data]     C:\\Users\\lamad\\AppData\\Roaming\\nltk_data...\n",
      "[nltk_data]   Package wordnet is already up-to-date!\n",
      "[nltk_data] Downloading package stopwords to\n",
      "[nltk_data]     C:\\Users\\lamad\\AppData\\Roaming\\nltk_data...\n",
      "[nltk_data]   Package stopwords is already up-to-date!\n"
     ]
    }
   ],
   "source": [
    "import numpy as np\n",
    "import re\n",
    "import nltk\n",
    "import pandas as pd\n",
    "from time import time\n",
    "from sklearn.datasets import load_files\n",
    "from nltk.stem import WordNetLemmatizer\n",
    "import matplotlib.pyplot as plt\n",
    "nltk.download('wordnet')\n",
    "nltk.download('stopwords')\n",
    "import pickle\n",
    "from nltk.stem import PorterStemmer\n",
    "from nltk.corpus import stopwords\n",
    "from sklearn.feature_extraction.text import CountVectorizer,TfidfTransformer,TfidfVectorizer\n",
    "from sklearn.model_selection import train_test_split\n",
    "from sklearn.metrics import classification_report , accuracy_score ,f1_score,confusion_matrix\n",
    "from sklearn.neighbors import NearestCentroid, KNeighborsClassifier"
   ]
  },
  {
   "cell_type": "code",
   "execution_count": 5,
   "id": "2d9a24c0",
   "metadata": {},
   "outputs": [
    {
     "name": "stdout",
     "output_type": "stream",
     "text": [
      "Count of the labels:\n",
      "0 = 510\n",
      "1 = 386\n",
      "2 = 417\n",
      "3 = 511\n",
      "4 = 401\n"
     ]
    }
   ],
   "source": [
    "#  Dataset is found here -raw text files version-  :\n",
    "#  http://mlg.ucd.ie/datasets/bbc.html\n",
    "\n",
    "#Loading Data from Directory\n",
    "\n",
    "dir =r\"./bbc/\"\n",
    "data=load_files(dir,encoding='utf-8',decode_error=\"replace\")\n",
    "\n",
    "#Class Labels\n",
    "\n",
    "X=data.data\n",
    "y= data.target\n",
    "\n",
    "labels,counts=np.unique(data.target,return_counts=True)\n",
    "print(\"Count of the labels:\")\n",
    "\n",
    "for i in range(5):\n",
    "    print(labels[i],\"=\",counts[i])\n",
    "\n",
    "#0: business\n",
    "#1: entertainment\n",
    "#2: politics\n",
    "#3: sports\n",
    "#4: tech"
   ]
  },
  {
   "cell_type": "code",
   "execution_count": 6,
   "id": "6926885a",
   "metadata": {},
   "outputs": [],
   "source": [
    "#Preprocessing using Lemmatization\n",
    "\n",
    "documents = []\n",
    "Lemmatizer = WordNetLemmatizer()\n",
    "stemmer=PorterStemmer()\n",
    "\n",
    "for sen in range(0, len(X)):\n",
    " \n",
    "    # Removing special characters\n",
    "    document = re.sub(r'\\W', ' ', str(X[sen]))\n",
    "    # Removing single characters\n",
    "    document = re.sub(r'\\s+[a-zA-Z]\\s+', ' ', document)\n",
    "    \n",
    "    # Removing single characters from the start\n",
    "    document = re.sub(r'\\^[a-zA-Z]\\s+', ' ', document) \n",
    "    \n",
    "    # Substituting multiple spaces with single space\n",
    "    document = re.sub(r'\\s+', ' ', document, flags=re.I)\n",
    "    \n",
    "    # Removing prefixed 'b'\n",
    "    document = re.sub(r'^b\\s+', '', document)\n",
    "    \n",
    "   \n",
    "    # Converting to Lowercase\n",
    "    document = document.lower()\n",
    "\n",
    "    # Tokenization\n",
    "    document = document.split()\n",
    "\n",
    "    # Lemmatization\n",
    "    document = [Lemmatizer.lemmatize(word) for word in document]\n",
    "    \n",
    "#if we want to use a Stemmer instead of Lemmatizer, done by deleteing the previous line of code and adding this line\n",
    "    \n",
    "    #document = [stemmer.stem(word) for word in document]\n",
    "    \n",
    "    document = ' '.join(document)\n",
    "    documents.append(document)"
   ]
  },
  {
   "cell_type": "code",
   "execution_count": 7,
   "id": "929dedba",
   "metadata": {},
   "outputs": [],
   "source": [
    "#Bag of Word represenation of the data\n",
    "\n",
    "vectorizer = CountVectorizer( stop_words=stopwords.words('english'))\n",
    "X = vectorizer.fit_transform(documents).toarray()"
   ]
  },
  {
   "cell_type": "code",
   "execution_count": 8,
   "id": "148ebbbb",
   "metadata": {},
   "outputs": [],
   "source": [
    "#Saving the data into our device as a csv. file -optional-\n",
    "\n",
    "columns = vectorizer.get_feature_names()\n",
    "x = pd.DataFrame(X, columns= columns)\n",
    "x.to_csv(\"BBC.csv\")"
   ]
  },
  {
   "cell_type": "code",
   "execution_count": 9,
   "id": "47edd0eb",
   "metadata": {},
   "outputs": [],
   "source": [
    "#TF-IDF representaion of the data\n",
    "\n",
    "tfidfconverter = TfidfTransformer()\n",
    "X = tfidfconverter.fit_transform(X).toarray()"
   ]
  },
  {
   "cell_type": "code",
   "execution_count": 10,
   "id": "061d7cfa",
   "metadata": {},
   "outputs": [],
   "source": [
    "#Splitting the data into Training and Test\n",
    "\n",
    "X_train, X_test, y_train, y_test = train_test_split(X, y, test_size=0.2, random_state=0)"
   ]
  },
  {
   "cell_type": "code",
   "execution_count": 18,
   "id": "fd5d2081",
   "metadata": {},
   "outputs": [
    {
     "name": "stdout",
     "output_type": "stream",
     "text": [
      "Train time:   1.156s\n",
      "Test time :   0.291s\n",
      "Accuracy  :     0.645\n"
     ]
    }
   ],
   "source": [
    "#Rocchio's Classification\n",
    "\n",
    "Roc = NearestCentroid(metric='manhattan')\n",
    "t0 = time()\n",
    "Roc.fit(X_train,y_train)\n",
    "Roc_train_time = time() - t0\n",
    "print(\"Train time:   %0.3fs\" % Roc_train_time)\n",
    "t0 = time()\n",
    "Roc_pred=Roc.predict(X_test)\n",
    "Roc_test_time = time() - t0\n",
    "print(\"Test time :   %0.3fs\" % Roc_test_time)\n",
    "Roc_score=accuracy_score(y_test, Roc_pred)\n",
    "print(\"Accuracy  :     %0.3f\" % Roc_score)"
   ]
  },
  {
   "cell_type": "code",
   "execution_count": 12,
   "id": "a3d74203",
   "metadata": {},
   "outputs": [
    {
     "name": "stdout",
     "output_type": "stream",
     "text": [
      "Train time :  0.121s\n",
      "Test time  :   1.559s\n",
      "Accuracy   :    0.937\n"
     ]
    }
   ],
   "source": [
    "#K-Nearest-Neigbors Classification\n",
    "\n",
    "Knn=KNeighborsClassifier(n_neighbors=9)\n",
    "t0 = time()\n",
    "Knn.fit(X_train,y_train)\n",
    "Knn_train_time = time() - t0\n",
    "print(\"Train time :  %0.3fs\" % Knn_train_time)\n",
    "t0 = time()\n",
    "Knn_pred=Knn.predict(X_test)\n",
    "Knn_test_time = time() - t0\n",
    "print(\"Test time  :   %0.3fs\" % Knn_test_time)\n",
    "Knn_score=accuracy_score(y_test, Knn_pred)\n",
    "print(\"Accuracy   :    %0.3f\" % Knn_score)"
   ]
  },
  {
   "cell_type": "code",
   "execution_count": 19,
   "id": "c03ec3ea",
   "metadata": {},
   "outputs": [
    {
     "name": "stdout",
     "output_type": "stream",
     "text": [
      "Rocchio's Classification :\n",
      "              precision    recall  f1-score   support\n",
      "\n",
      "           0       0.61      0.59      0.60       102\n",
      "           1       0.58      0.71      0.64        84\n",
      "           2       0.73      0.69      0.71        78\n",
      "           3       0.68      0.70      0.69       103\n",
      "           4       0.65      0.53      0.58        78\n",
      "\n",
      "    accuracy                           0.64       445\n",
      "   macro avg       0.65      0.64      0.64       445\n",
      "weighted avg       0.65      0.64      0.64       445\n",
      "\n",
      "Accuracy score         64.49438202247191 %\n",
      "Confusion matrix      \n",
      "[[60 13 13 12  4]\n",
      " [12 60  1  7  4]\n",
      " [ 6  8 54  6  4]\n",
      " [ 8 13  0 72 10]\n",
      " [13  9  6  9 41]]\n",
      "\n",
      "\n",
      "K-Nearest-Neigbors Classification :\n",
      "              precision    recall  f1-score   support\n",
      "\n",
      "           0       0.95      0.86      0.90       102\n",
      "           1       0.97      0.89      0.93        84\n",
      "           2       0.87      0.96      0.91        78\n",
      "           3       0.97      0.99      0.98       103\n",
      "           4       0.92      0.99      0.95        78\n",
      "\n",
      "    accuracy                           0.94       445\n",
      "   macro avg       0.94      0.94      0.94       445\n",
      "weighted avg       0.94      0.94      0.94       445\n",
      "\n",
      "Accuracy score         93.70786516853933 %\n",
      "Confusion matrix      \n",
      "[[ 88   1   8   1   4]\n",
      " [  3  75   3   0   3]\n",
      " [  1   0  75   2   0]\n",
      " [  1   0   0 102   0]\n",
      " [  0   1   0   0  77]]\n"
     ]
    }
   ],
   "source": [
    "# Classification Report\n",
    "\n",
    "print(\"Rocchio's Classification :\")\n",
    "print(classification_report(y_test, Roc_pred))  \n",
    "print(f\"Accuracy score         {accuracy_score(y_test, Roc_pred) * 100} %\")\n",
    "print(\"Confusion matrix      \")\n",
    "print(confusion_matrix(y_test, Roc_pred))\n",
    "print()\n",
    "print()\n",
    "print(\"K-Nearest-Neigbors Classification :\")\n",
    "print(classification_report(y_test, Knn_pred))\n",
    "print(f\"Accuracy score         {accuracy_score(y_test, Knn_pred) * 100} %\")\n",
    "print(\"Confusion matrix      \")\n",
    "print(confusion_matrix(y_test, Knn_pred))"
   ]
  },
  {
   "cell_type": "code",
   "execution_count": 20,
   "id": "bc652ba7",
   "metadata": {},
   "outputs": [
    {
     "data": {
      "image/png": "[encoded data removed]",
      "text/plain": [
       "<Figure size 432x432 with 1 Axes>"
      ]
     },
     "metadata": {
      "needs_background": "light"
     },
     "output_type": "display_data"
    }
   ],
   "source": [
    "#Visualizing test and training time and score\n",
    "results = [Roc.fit(X_train,y_train),Knn.fit(X_train,y_train)]\n",
    "indices = np.arange(len(results))\n",
    "score=[Roc_score,Knn_score]\n",
    "training_time=[Roc_train_time,Knn_train_time]\n",
    "test_time=[Roc_test_time,Knn_test_time]\n",
    "\n",
    "plt.figure(figsize=(6, 6))\n",
    "plt.title(\"Score\")\n",
    "plt.barh(indices, score, 0.2, label=\"Score\", color=\"pink\")\n",
    "plt.barh(indices + 0.3, training_time, 0.2, label=\"Training time\", color=\"blue\")\n",
    "plt.barh(indices + 0.6, test_time, 0.2, label=\"Test time\", color=\"purple\")\n",
    "plt.yticks(())\n",
    "plt.legend(loc=\"best\")\n",
    "plt.subplots_adjust(left=0.1)\n",
    "plt.subplots_adjust(top=0.5)\n",
    "plt.subplots_adjust(bottom=0.02)\n",
    "names=[\"Rocchio\",\"KNN\"]\n",
    "for i, c in zip(indices, names):\n",
    "    plt.text(-0.3, i, c)\n",
    "plt.show()"
   ]
  },
  {
   "cell_type": "code",
   "execution_count": null,
   "id": "0d403957",
   "metadata": {},
   "outputs": [],
   "source": []
  }
 ],
 "metadata": {
  "kernelspec": {
   "display_name": "Python 3",
   "language": "python",
   "name": "python3"
  },
  "language_info": {
   "codemirror_mode": {
    "name": "ipython",
    "version": 3
   },
   "file_extension": ".py",
   "mimetype": "text/x-python",
   "name": "python",
   "nbconvert_exporter": "python",
   "pygments_lexer": "ipython3",
   "version": "3.8.8"
  }
 },
 "nbformat": 4,
 "nbformat_minor": 5
}
